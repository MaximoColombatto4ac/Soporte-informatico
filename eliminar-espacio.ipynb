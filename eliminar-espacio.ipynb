{
  "nbformat": 4,
  "nbformat_minor": 0,
  "metadata": {
    "colab": {
      "provenance": [],
      "authorship_tag": "ABX9TyPsoLCJu/Uj9SUsCGRI2hZw",
      "include_colab_link": true
    },
    "kernelspec": {
      "name": "python3",
      "display_name": "Python 3"
    },
    "language_info": {
      "name": "python"
    }
  },
  "cells": [
    {
      "cell_type": "markdown",
      "metadata": {
        "id": "view-in-github",
        "colab_type": "text"
      },
      "source": [
        "<a href=\"https://colab.research.google.com/github/MaximoColombatto4ac/Soporte-informatico/blob/main/eliminar-espacio.ipynb\" target=\"_parent\"><img src=\"https://colab.research.google.com/assets/colab-badge.svg\" alt=\"Open In Colab\"/></a>"
      ]
    },
    {
      "cell_type": "code",
      "execution_count": null,
      "metadata": {
        "colab": {
          "base_uri": "https://localhost:8080/"
        },
        "id": "Z6-K8bM20TS2",
        "outputId": "3021b33f-f8f6-4b80-83b7-58eca9a78db3"
      },
      "outputs": [
        {
          "output_type": "stream",
          "name": "stdout",
          "text": [
            "Ingrese una palabra (o 'salir' para terminar):  hola hola\n",
            "Ingrese una palabra (o 'salir' para terminar): salir\n",
            "Lista de palabras sin espacios:\n",
            "['holahola']\n"
          ]
        }
      ],
      "source": [
        "\n",
        "listaPalabras = []\n",
        "\n",
        "while True:\n",
        "    palabra = input(\"Ingrese una palabra (o 'salir' para terminar): \")\n",
        "    if palabra == \"salir\":\n",
        "        break\n",
        "    listaPalabras.append(palabra)\n",
        "\n",
        "def eliminarEspacios(palabra):\n",
        "    return palabra.replace(\" \", \"\")\n",
        "\n",
        "listaSinEspacios = [eliminarEspacios(palabra) for palabra in listaPalabras]\n",
        "\n",
        "print(\"Lista de palabras sin espacios:\")\n",
        "print(listaSinEspacios)\n"
      ]
    }
  ]
}