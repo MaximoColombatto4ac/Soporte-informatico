{
  "nbformat": 4,
  "nbformat_minor": 0,
  "metadata": {
    "colab": {
      "provenance": [],
      "authorship_tag": "ABX9TyPwu1RNqJ/HQm7D6RbJ5ZtU",
      "include_colab_link": true
    },
    "kernelspec": {
      "name": "python3",
      "display_name": "Python 3"
    },
    "language_info": {
      "name": "python"
    }
  },
  "cells": [
    {
      "cell_type": "markdown",
      "metadata": {
        "id": "view-in-github",
        "colab_type": "text"
      },
      "source": [
        "<a href=\"https://colab.research.google.com/github/MaximoColombatto4ac/Soporte-informatico/blob/main/limpiar_datos.ipynb\" target=\"_parent\"><img src=\"https://colab.research.google.com/assets/colab-badge.svg\" alt=\"Open In Colab\"/></a>"
      ]
    },
    {
      "cell_type": "code",
      "source": [
        "import pandas as pd\n",
        "import numpy as np\n",
        "\n",
        "def arreglar_columnas(columnas):\n",
        "    for i in range(len(columnas)):\n",
        "        columnas[i] = columnas[i].replace(\" \",\"\")\n",
        "    return columnas\n",
        "\n",
        "def resolver_espacios(valor):\n",
        "    valor = str(valor)\n",
        "    if valor[0] == ' ':\n",
        "        valor = valor[1:]\n",
        "    if valor == '':\n",
        "        valor = \"-\"\n",
        "    return valor\n",
        "\n",
        "def comprobarMes(mes):\n",
        "    meses_del_anio = [\"Enero\", \"Febrero\", \"Marzo\", \"Abril\", \"Mayo\", \"Junio\",\n",
        "                      \"Julio\", \"Agosto\", \"Septiembre\", \"Octubre\", \"Noviembre\", \"Diciembre\"]\n",
        "    if mes.capitalize() in meses_del_anio:\n",
        "        return mes.capitalize()\n",
        "    else:\n",
        "        return np.nan\n",
        "\n",
        "def comprobarAdministracion(administracion):\n",
        "    if administracion.capitalize() == \"Ciudad de buenos aires\":\n",
        "        return \"Ciudad de Buenos Aires\"\n",
        "    elif administracion.capitalize() == \"Argentina\":\n",
        "        return \"Argentina\"\n",
        "    else:\n",
        "        return \"-\"\n",
        "\n",
        "def manejarNulos(dataframe):\n",
        "    return dataframe.dropna()\n",
        "\n",
        "def manejarDatosIncorrectos(dataframe):\n",
        "    dataframe.loc[~dataframe['administración'].isin([\"Ciudad de Buenos Aires\", \"Argentina\"]), 'administración'] = '-'\n",
        "    return dataframe\n",
        "\n",
        "csv = pd.read_csv(\"/content/CSVTRABAJO.csv\")\n",
        "\n",
        "csvColumnas = list(csv.columns)\n",
        "csv.columns = arreglar_columnas(csvColumnas)\n",
        "\n",
        "csv = csv.applymap(resolver_espacios)\n",
        "\n",
        "csv[\"mes\"] = csv[\"mes\"].apply(comprobarMes)\n",
        "\n",
        "csv[\"administración\"] = csv[\"administración\"].apply(comprobarAdministracion)\n",
        "\n",
        "csv = manejarNulos(csv)\n",
        "\n",
        "csv = manejarDatosIncorrectos(csv)\n",
        "\n",
        "csv.to_csv('/content/datos_limpios.csv', index=False)\n",
        "\n",
        "print(\"CSV limpio guardado exitosamente.\")\n",
        "\n"
      ],
      "metadata": {
        "colab": {
          "base_uri": "https://localhost:8080/"
        },
        "id": "E_tavubA7Vk1",
        "outputId": "845fa680-9c93-4fa6-b370-cbf0e9cbadf7"
      },
      "execution_count": 9,
      "outputs": [
        {
          "output_type": "stream",
          "name": "stdout",
          "text": [
            "CSV limpio guardado exitosamente.\n"
          ]
        }
      ]
    }
  ]
}